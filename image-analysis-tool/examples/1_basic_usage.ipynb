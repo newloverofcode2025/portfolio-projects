{
 "cells": [
  {
   "cell_type": "markdown",
   "metadata": {},
   "source": [
    "# AI Image Analysis Tool - Basic Usage\n",
    "\n",
    "This notebook demonstrates the basic usage of the AI Image Analysis Tool. We'll cover:\n",
    "1. Loading and preparing images\n",
    "2. Object detection\n",
    "3. Face analysis\n",
    "4. Image enhancement"
   ]
  },
  {
   "cell_type": "code",
   "execution_count": null,
   "metadata": {},
   "source": [
    "import sys\n",
    "sys.path.append('..')\n",
    "\n",
    "from src.detection import object_detector\n",
    "from src.face_analysis import face_analyzer\n",
    "from src.enhancement import image_enhancer\n",
    "from src.utils.image_utils import load_image\n",
    "\n",
    "import matplotlib.pyplot as plt\n",
    "import cv2\n",
    "from PIL import Image"
   ]
  },
  {
   "cell_type": "markdown",
   "metadata": {},
   "source": [
    "## 1. Object Detection\n",
    "\n",
    "Let's start by detecting objects in an image using YOLOv8."
   ]
  },
  {
   "cell_type": "code",
   "execution_count": null,
   "metadata": {},
   "source": [
    "# Load a sample image\n",
    "image_path = '../sample_images/objects.jpg'\n",
    "image = cv2.imread(image_path)\n",
    "image_rgb = cv2.cvtColor(image, cv2.COLOR_BGR2RGB)\n",
    "\n",
    "# Detect objects\n",
    "detected_image = object_detector.detect(image_rgb)\n",
    "\n",
    "# Display results\n",
    "plt.figure(figsize=(15, 10))\n",
    "plt.imshow(detected_image)\n",
    "plt.axis('off')\n",
    "plt.title('Object Detection Results')\n",
    "plt.show()"
   ]
  },
  {
   "cell_type": "markdown",
   "metadata": {},
   "source": [
    "## 2. Face Analysis\n",
    "\n",
    "Now let's analyze faces in an image using MediaPipe and face_recognition."
   ]
  },
  {
   "cell_type": "code",
   "execution_count": null,
   "metadata": {},
   "source": [
    "# Load a sample image with faces\n",
    "image_path = '../sample_images/people.jpg'\n",
    "image = cv2.imread(image_path)\n",
    "image_rgb = cv2.cvtColor(image, cv2.COLOR_BGR2RGB)\n",
    "\n",
    "# Analyze faces\n",
    "analyzed_image = face_analyzer.analyze(image_rgb)\n",
    "\n",
    "# Display results\n",
    "plt.figure(figsize=(15, 10))\n",
    "plt.imshow(analyzed_image)\n",
    "plt.axis('off')\n",
    "plt.title('Face Analysis Results')\n",
    "plt.show()"
   ]
  },
  {
   "cell_type": "markdown",
   "metadata": {},
   "source": [
    "## 3. Image Enhancement\n",
    "\n",
    "Finally, let's enhance a low-quality image."
   ]
  },
  {
   "cell_type": "code",
   "execution_count": null,
   "metadata": {},
   "source": [
    "# Load a low quality image\n",
    "image_path = '../sample_images/low_quality.jpg'\n",
    "image = cv2.imread(image_path)\n",
    "image_rgb = cv2.cvtColor(image, cv2.COLOR_BGR2RGB)\n",
    "\n",
    "# Enhance image\n",
    "enhanced_image = image_enhancer.enhance(image_rgb)\n",
    "\n",
    "# Display original and enhanced images side by side\n",
    "fig, (ax1, ax2) = plt.subplots(1, 2, figsize=(15, 8))\n",
    "ax1.imshow(image_rgb)\n",
    "ax1.set_title('Original Image')\n",
    "ax1.axis('off')\n",
    "\n",
    "ax2.imshow(enhanced_image)\n",
    "ax2.set_title('Enhanced Image')\n",
    "ax2.axis('off')\n",
    "\n",
    "plt.show()"
   ]
  }
 ],
 "metadata": {
  "kernelspec": {
   "display_name": "Python 3",
   "language": "python",
   "name": "python3"
  },
  "language_info": {
   "codemirror_mode": {
    "name": "ipython",
    "version": 3
   },
   "file_extension": ".py",
   "mimetype": "text/x-python",
   "name": "python",
   "nbconvert_exporter": "python",
   "pygments_lexer": "ipython3",
   "version": "3.8.0"
  }
 },
 "nbformat": 4,
 "nbformat_minor": 4
}
