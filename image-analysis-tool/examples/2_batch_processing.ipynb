{
 "cells": [
  {
   "cell_type": "markdown",
   "metadata": {},
   "source": [
    "# AI Image Analysis Tool - Batch Processing\n",
    "\n",
    "This notebook demonstrates how to process multiple images in batch using the BatchProcessor."
   ]
  },
  {
   "cell_type": "code",
   "execution_count": null,
   "metadata": {},
   "source": [
    "import sys\n",
    "sys.path.append('..')\n",
    "\n",
    "from src.utils.batch_processor import BatchProcessor\n",
    "from src.detection import object_detector\n",
    "from src.face_analysis import face_analyzer\n",
    "from src.enhancement import image_enhancer\n",
    "\n",
    "from pathlib import Path\n",
    "import matplotlib.pyplot as plt\n",
    "import cv2"
   ]
  },
  {
   "cell_type": "markdown",
   "metadata": {},
   "source": [
    "## 1. Batch Object Detection"
   ]
  },
  {
   "cell_type": "code",
   "execution_count": null,
   "metadata": {},
   "source": [
    "# Initialize batch processor\n",
    "batch_processor = BatchProcessor(max_workers=4, show_progress=True)\n",
    "\n",
    "# Get list of images\n",
    "image_dir = Path('../sample_images')\n",
    "image_files = list(image_dir.glob('*.jpg'))\n",
    "\n",
    "# Process images in batch\n",
    "results = batch_processor.process_batch(\n",
    "    items=image_files,\n",
    "    process_fn=object_detector.detect,\n",
    "    save_results=True,\n",
    "    output_dir='../output/object_detection'\n",
    ")\n",
    "\n",
    "# Display statistics\n",
    "print(\"Batch Processing Statistics:\")\n",
    "for key, value in results['stats'].items():\n",
    "    print(f\"{key}: {value}\")"
   ]
  },
  {
   "cell_type": "markdown",
   "metadata": {},
   "source": [
    "## 2. Batch Face Analysis"
   ]
  },
  {
   "cell_type": "code",
   "execution_count": null,
   "metadata": {},
   "source": [
    "# Process images for face analysis\n",
    "results = batch_processor.process_batch(\n",
    "    items=image_files,\n",
    "    process_fn=face_analyzer.analyze,\n",
    "    save_results=True,\n",
    "    output_dir='../output/face_analysis'\n",
    ")\n",
    "\n",
    "# Display statistics\n",
    "print(\"\\nFace Analysis Statistics:\")\n",
    "for key, value in results['stats'].items():\n",
    "    print(f\"{key}: {value}\")"
   ]
  },
  {
   "cell_type": "markdown",
   "metadata": {},
   "source": [
    "## 3. Batch Image Enhancement"
   ]
  },
  {
   "cell_type": "code",
   "execution_count": null,
   "metadata": {},
   "source": [
    "# Process images for enhancement\n",
    "results = batch_processor.process_batch(\n",
    "    items=image_files,\n",
    "    process_fn=image_enhancer.enhance,\n",
    "    save_results=True,\n",
    "    output_dir='../output/enhanced'\n",
    ")\n",
    "\n",
    "# Display statistics\n",
    "print(\"\\nImage Enhancement Statistics:\")\n",
    "for key, value in results['stats'].items():\n",
    "    print(f\"{key}: {value}\")\n",
    "\n",
    "# Display any errors that occurred\n",
    "if results['errors']:\n",
    "    print(\"\\nErrors encountered:\")\n",
    "    for item, error in results['errors'].items():\n",
    "        print(f\"{item}: {error}\")"
   ]
  },
  {
   "cell_type": "markdown",
   "metadata": {},
   "source": [
    "## 4. Custom Batch Processing Pipeline"
   ]
  },
  {
   "cell_type": "code",
   "execution_count": null,
   "metadata": {},
   "source": [
    "def custom_pipeline(image_path):\n",
    "    \"\"\"Custom processing pipeline that combines multiple operations.\"\"\"\n",
    "    # Load image\n",
    "    image = cv2.imread(str(image_path))\n",
    "    image_rgb = cv2.cvtColor(image, cv2.COLOR_BGR2RGB)\n",
    "    \n",
    "    # Enhance image\n",
    "    enhanced = image_enhancer.enhance(image_rgb)\n",
    "    \n",
    "    # Detect objects\n",
    "    with_objects = object_detector.detect(enhanced)\n",
    "    \n",
    "    # Analyze faces\n",
    "    final_result = face_analyzer.analyze(with_objects)\n",
    "    \n",
    "    return final_result\n",
    "\n",
    "# Run custom pipeline on batch\n",
    "results = batch_processor.process_batch(\n",
    "    items=image_files,\n",
    "    process_fn=custom_pipeline,\n",
    "    save_results=True,\n",
    "    output_dir='../output/custom_pipeline'\n",
    ")\n",
    "\n",
    "print(\"\\nCustom Pipeline Statistics:\")\n",
    "for key, value in results['stats'].items():\n",
    "    print(f\"{key}: {value}\")"
   ]
  }
 ],
 "metadata": {
  "kernelspec": {
   "display_name": "Python 3",
   "language": "python",
   "name": "python3"
  },
  "language_info": {
   "codemirror_mode": {
    "name": "ipython",
    "version": 3
   },
   "file_extension": ".py",
   "mimetype": "text/x-python",
   "name": "python",
   "nbconvert_exporter": "python",
   "pygments_lexer": "ipython3",
   "version": "3.8.0"
  }
 },
 "nbformat": 4,
 "nbformat_minor": 4
}
