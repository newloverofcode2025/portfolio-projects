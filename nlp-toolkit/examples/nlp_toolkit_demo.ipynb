{
 "cells": [
  {
   "cell_type": "markdown",
   "metadata": {},
   "source": [
    "# NLP Toolkit Demo\n",
    "\n",
    "This notebook demonstrates the key features of our NLP Toolkit. We'll explore text analysis, document processing, and language tools through practical examples."
   ]
  },
  {
   "cell_type": "code",
   "execution_count": null,
   "metadata": {},
   "source": [
    "import sys\n",
    "sys.path.append('..')\n",
    "\n",
    "from src.text_analyzer import TextAnalyzer\n",
    "from src.document_processor import DocumentProcessor\n",
    "from src.language_tools import LanguageTools\n",
    "\n",
    "# Initialize components\n",
    "analyzer = TextAnalyzer()\n",
    "processor = DocumentProcessor()\n",
    "lang_tools = LanguageTools()"
   ]
  },
  {
   "cell_type": "markdown",
   "metadata": {},
   "source": [
    "## 1. Text Analysis\n",
    "\n",
    "Let's analyze a sample text using various NLP techniques."
   ]
  },
  {
   "cell_type": "code",
   "execution_count": null,
   "metadata": {},
   "source": [
    "sample_text = \"\"\"\n",
    "Artificial Intelligence has transformed the technology landscape dramatically. \n",
    "Companies like OpenAI, Google, and Microsoft are investing heavily in AI research. \n",
    "The development of large language models has opened new possibilities in natural \n",
    "language processing and understanding. However, concerns about AI safety and ethics \n",
    "remain important considerations for the future of this technology.\n",
    "\"\"\"\n",
    "\n",
    "# Analyze text\n",
    "analysis_results = analyzer.analyze(sample_text)\n",
    "\n",
    "# Display results\n",
    "print(\"Sentiment Analysis:\")\n",
    "print(analysis_results['sentiment'])\n",
    "print(\"\\nNamed Entities:\")\n",
    "print(analysis_results['entities'])\n",
    "print(\"\\nKey Phrases:\")\n",
    "print(analysis_results['key_phrases'][:3])\n",
    "print(\"\\nSummary:\")\n",
    "print(analysis_results['summary'])"
   ]
  },
  {
   "cell_type": "markdown",
   "metadata": {},
   "source": [
    "## 2. Document Processing\n",
    "\n",
    "Now, let's process a larger document and extract meaningful insights."
   ]
  },
  {
   "cell_type": "code",
   "execution_count": null,
   "metadata": {},
   "source": [
    "# Create a sample document\n",
    "with open('sample_document.txt', 'w') as f:\n",
    "    f.write(\"\"\"\n",
    "    # Introduction to Machine Learning\n",
    "    \n",
    "    Machine Learning is a subset of artificial intelligence that focuses on developing\n",
    "    systems that can learn from and make decisions based on data. Unlike traditional\n",
    "    programming, where rules are explicitly coded, machine learning algorithms improve\n",
    "    through experience.\n",
    "    \n",
    "    ## Types of Machine Learning\n",
    "    \n",
    "    1. Supervised Learning: The algorithm learns from labeled training data.\n",
    "    2. Unsupervised Learning: The algorithm finds patterns in unlabeled data.\n",
    "    3. Reinforcement Learning: The algorithm learns through trial and error.\n",
    "    \n",
    "    ## Applications\n",
    "    \n",
    "    Machine learning has numerous applications across industries:\n",
    "    - Image and Speech Recognition\n",
    "    - Natural Language Processing\n",
    "    - Recommendation Systems\n",
    "    - Autonomous Vehicles\n",
    "    \n",
    "    The future of machine learning looks promising as more data becomes available\n",
    "    and computing power continues to increase.\n",
    "    \"\"\")\n",
    "\n",
    "# Process document\n",
    "doc_results = processor.process_document('sample_document.txt')\n",
    "\n",
    "print(\"Document Topics:\")\n",
    "for topic in doc_results['topics']:\n",
    "    print(f\"Topic {topic['id']}: {', '.join(topic['words'])}\")\n",
    "\n",
    "print(\"\\nDocument Structure:\")\n",
    "print(doc_results['structure'])\n",
    "\n",
    "print(\"\\nDocument Summary:\")\n",
    "print(doc_results['summary'])"
   ]
  },
  {
   "cell_type": "markdown",
   "metadata": {},
   "source": [
    "## 3. Language Tools\n",
    "\n",
    "Let's explore translation, grammar checking, and text correction features."
   ]
  },
  {
   "cell_type": "code",
   "execution_count": null,
   "metadata": {},
   "source": [
    "# Translation\n",
    "text_to_translate = \"Artificial Intelligence is changing the world.\"\n",
    "translation = lang_tools.translate(text_to_translate, target_lang='es')\n",
    "print(\"Translation:\")\n",
    "print(f\"Original: {translation['original']}\")\n",
    "print(f\"Translated: {translation['translated']}\")\n",
    "\n",
    "# Grammar Check\n",
    "text_with_errors = \"The company have many employee who works hard.\"\n",
    "grammar_check = lang_tools.check_grammar(text_with_errors)\n",
    "print(\"\\nGrammar Check:\")\n",
    "print(f\"Score: {grammar_check['score']}\")\n",
    "print(\"Issues:\")\n",
    "for issue in grammar_check['issues']:\n",
    "    print(f\"- {issue['text']}: {issue.get('suggestion', 'No suggestion')}\")\n",
    "\n",
    "# Text Correction\n",
    "correction = lang_tools.correct_text(\n",
    "    text_with_errors,\n",
    "    fix_spelling=True,\n",
    "    fix_grammar=True,\n",
    "    fix_punctuation=True\n",
    ")\n",
    "print(\"\\nText Correction:\")\n",
    "print(f\"Original: {correction['original']}\")\n",
    "print(f\"Corrected: {correction['corrected']}\")\n",
    "print(f\"Improvement Score: {correction['improvement_score']}\")"
   ]
  },
  {
   "cell_type": "markdown",
   "metadata": {},
   "source": [
    "## Conclusion\n",
    "\n",
    "This demo showcases the main features of our NLP Toolkit:\n",
    "1. Text Analysis: Sentiment analysis, entity recognition, key phrase extraction, and summarization\n",
    "2. Document Processing: Topic modeling, structure analysis, and document summarization\n",
    "3. Language Tools: Translation, grammar checking, and text correction\n",
    "\n",
    "Feel free to explore more features and customize the toolkit for your specific needs!"
   ]
  }
 ],
 "metadata": {
  "kernelspec": {
   "display_name": "Python 3",
   "language": "python",
   "name": "python3"
  },
  "language_info": {
   "codemirror_mode": {
    "name": "ipython",
    "version": 3
   },
   "file_extension": ".py",
   "mimetype": "text/x-python",
   "name": "python",
   "nbconvert_exporter": "python",
   "pygments_lexer": "ipython3",
   "version": "3.8.0"
  }
 },
 "nbformat": 4,
 "nbformat_minor": 4
}
